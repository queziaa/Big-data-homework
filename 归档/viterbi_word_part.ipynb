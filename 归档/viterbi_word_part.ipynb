{
 "cells": [
  {
   "cell_type": "code",
   "execution_count": 4,
   "metadata": {},
   "outputs": [],
   "source": [
    "import numpy as np\n",
    "\n",
    "\n",
    "def viterbi(obs_len, states_len, init_p, trans_p, emit_p):\n",
    "    \"\"\"\n",
    "    :param obs_len: 观测序列长度 int\n",
    "    :param states_len: 隐含序列长度 int\n",
    "    :param init_p:初始概率 list\n",
    "    :param trans_p:转移概率矩阵 np.ndarray\n",
    "    :param emit_p:发射概率矩阵 np.ndarray\n",
    "    :return:最佳路径 np.ndarray\n",
    "    \"\"\"\n",
    "    max_p = np.zeros((states_len, obs_len))  # max_p每一列为当前观测序列不同隐状态的最大概率\n",
    "    path = np.zeros((states_len, obs_len))  # path每一行存储上max_p对应列的路径\n",
    "\n",
    "    # 初始化max_p第1个观测节点不同隐状态的最大概率并初始化path从各个隐状态出发\n",
    "    for i in range(states_len):\n",
    "        max_p[i][0] = init_p[i] * emit_p[i][0]\n",
    "        path[i][0] = i\n",
    "\n",
    "    # 遍历第1项后的每一个观测序列，计算其不同隐状态的最大概率\n",
    "    for obs_index in range(1, obs_len):\n",
    "        new_path = np.zeros((states_len, obs_len))\n",
    "        # 遍历其每一个隐状态\n",
    "        for hid_index in range(states_len):\n",
    "            # 根据公式计算累计概率，得到该隐状态的最大概率\n",
    "            max_prob = -1\n",
    "            pre_state_index = 0\n",
    "            for i in range(states_len):\n",
    "                each_prob = max_p[i][obs_index - 1] * trans_p[i][hid_index] * emit_p[hid_index][obs_index]\n",
    "\n",
    "                if each_prob > max_prob:\n",
    "                    max_prob = each_prob\n",
    "                    pre_state_index = i\n",
    "\n",
    "            # 记录最大概率及路径\n",
    "            max_p[hid_index][obs_index] = max_prob\n",
    "            for m in range(obs_index):\n",
    "                # \"继承\"取到最大概率的隐状态之前的路径（从之前的path中取出某条路径）\n",
    "                new_path[hid_index][m] = path[pre_state_index][m]\n",
    "            new_path[hid_index][obs_index] = hid_index\n",
    "        # 更新路径\n",
    "        path = new_path\n",
    "\n",
    "    # 返回最大概率的路径\n",
    "    max_prob = -1\n",
    "    last_state_index = 0\n",
    "    for hid_index in range(states_len):\n",
    "        if max_p[hid_index][obs_len - 1] > max_prob:\n",
    "            max_prob = max_p[hid_index][obs_len - 1]\n",
    "            last_state_index = hid_index\n",
    "    return path[last_state_index]"
   ]
  },
  {
   "cell_type": "code",
   "execution_count": 5,
   "metadata": {},
   "outputs": [],
   "source": [
    "hidden_state = ['AT', 'BEZ', 'IN', 'NN', 'VB', 'PERIOD']  # 隐状态\n",
    "observation = ['我','经常','在','微信','购买','衣服']  # 观测序列"
   ]
  },
  {
   "cell_type": "code",
   "execution_count": 6,
   "metadata": {},
   "outputs": [],
   "source": [
    "# 初始状态\n",
    "start_probability = [0.2, 0.1, 0.1, 0.2, 0.3, 0.1]\n",
    "# 转移概率\n",
    "transaction_probability = np.array(\n",
    "    [[1 / 48659, 1 / 48659, 1 / 48659, 48636 / 48659, 1 / 48659, 19 / 48659],\n",
    "     [1937 / 2590, 1 / 2590, 426 / 2590, 187 / 2590, 1 / 2590, 38 / 2590],\n",
    "     [43322 / 62148, 1 / 62148, 1325 / 62148, 17314 / 62148, 1 / 62148, 185 / 62148],\n",
    "     [1067 / 81036, 3720 / 81036, 42470 / 81036, 11773 / 81036, 614 / 81036, 21392 / 81036],\n",
    "     [6082 / 14009, 42 / 14009, 4758 / 14009, 1476 / 14009, 129 / 14009, 1522 / 14009],\n",
    "     [8016 / 15031, 75 / 15031, 4656 / 15031, 1329 / 15031, 954 / 15031, 1 / 15031]])\n",
    "# 发射概率\n",
    "emission_probability = np.array(\n",
    "    [[69016 / 69023, 1 / 69023, 1 / 69023, 1 / 69023, 69016 / 69023, 1 / 69023, 1 / 69023],\n",
    "     [1 / 10072, 1 / 10072, 10065 / 10072, 1 / 10072, 1 / 10072, 1 / 10072, 1 / 10072],\n",
    "     [1 / 5491, 1 / 5491, 1 / 5491, 5484 / 5491, 1 / 5491, 1 / 5491, 1 / 5491],\n",
    "     [1 / 543, 10 / 543, 1 / 543, 1 / 543, 1 / 543, 36 / 543, 1 / 543],\n",
    "     [1 / 187, 43 / 187, 1 / 187, 1 / 187, 1 / 187, 133 / 187, 1 / 187],\n",
    "     [1 / 15031, 1 / 15031, 1 / 15031, 1 / 15031, 1 / 15031, 1 / 15031, 48809 / 15031]])"
   ]
  },
  {
   "cell_type": "code",
   "execution_count": 7,
   "metadata": {},
   "outputs": [
    {
     "data": {
      "text/plain": [
       "array([0., 3., 1., 2., 0., 3.])"
      ]
     },
     "execution_count": 7,
     "metadata": {},
     "output_type": "execute_result"
    }
   ],
   "source": [
    "result = viterbi(len(observation), len(hidden_state),\n",
    "                     start_probability, transaction_probability, emission_probability)\n",
    "result"
   ]
  },
  {
   "cell_type": "code",
   "execution_count": 8,
   "metadata": {},
   "outputs": [
    {
     "data": {
      "text/plain": [
       "'我/AT 经常/NN 在/BEZ 微信/IN 购买/AT 衣服/NN '"
      ]
     },
     "execution_count": 8,
     "metadata": {},
     "output_type": "execute_result"
    }
   ],
   "source": [
    "tag_line = ''\n",
    "for k in range(len(result)):\n",
    "    tag_line += observation[k] + \"/\" + hidden_state[int(result[k])] + ' '\n",
    "tag_line\n",
    "\n",
    "#这段代码的功能是将两个列表（`observation`和`hidden_state`）中的元素按照特定的格式拼接起来。\n",
    "\n",
    "# 输入：\n",
    "# - `result`：一个包含索引的列表，这些索引用于从`hidden_state`列表中获取元素。\n",
    "# - `observation`：一个包含观察结果的列表。\n",
    "# - `hidden_state`：一个包含隐藏状态的列表。\n",
    "\n",
    "# 过程：\n",
    "# - 对于`result`列表中的每个元素（索引），代码会从`observation`和`hidden_state`列表中获取对应的元素。\n",
    "# - 然后，将这两个元素以`observation[k]/hidden_state[result[k]]`的格式拼接起来，并添加到`tag_line`字符串中。\n",
    "\n",
    "# 输出：\n",
    "# - `tag_line`：一个字符串，包含了拼接后的所有元素，每对元素之间用空格分隔。\n",
    "\n",
    "# 例如，如果`observation = ['我', '是', 'AI']`，`hidden_state = ['名词', '动词', '名词']`，`result = [0, 1, 0]`，那么输出的`tag_line`将会是`'我/名词 是/动词 AI/名词 '`。\n"
   ]
  }
 ],
 "metadata": {
  "kernelspec": {
   "display_name": "Python 3",
   "language": "python",
   "name": "python3"
  },
  "language_info": {
   "codemirror_mode": {
    "name": "ipython",
    "version": 3
   },
   "file_extension": ".py",
   "mimetype": "text/x-python",
   "name": "python",
   "nbconvert_exporter": "python",
   "pygments_lexer": "ipython3",
   "version": "3.11.5"
  },
  "toc": {
   "base_numbering": 1,
   "nav_menu": {},
   "number_sections": true,
   "sideBar": true,
   "skip_h1_title": false,
   "title_cell": "Table of Contents",
   "title_sidebar": "Contents",
   "toc_cell": false,
   "toc_position": {},
   "toc_section_display": true,
   "toc_window_display": false
  }
 },
 "nbformat": 4,
 "nbformat_minor": 4
}
