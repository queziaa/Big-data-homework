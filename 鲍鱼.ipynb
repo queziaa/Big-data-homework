{
 "cells": [
  {
   "cell_type": "code",
   "execution_count": 12,
   "metadata": {},
   "outputs": [],
   "source": [
    "# 读取 鲍鱼数据集.csv\n",
    "data = []\n",
    "with open('鲍鱼数据集.csv') as f:\n",
    "    for line in f:\n",
    "        data.append(line.strip().split(','))\n",
    "\n",
    "# 将数据转化为浮点数\n",
    "# 第一列是由M F I代表的性别\n",
    "# 只保留M\n",
    "data = [[float(x) for x in line[1:]] for line in data if line[0] == 'F']\n",
    "\n",
    "\n",
    "# data 转化为numpy数组\n",
    "import numpy as np\n",
    "data = np.array(data)\n",
    "\n",
    "# 保存最后一列作为标签\n",
    "label = data[:, -1]\n",
    "# 删除最后一列\n",
    "data = data[:, :-1]\n",
    "\n",
    "\n",
    "\n"
   ]
  },
  {
   "cell_type": "code",
   "execution_count": 21,
   "metadata": {},
   "outputs": [
    {
     "name": "stderr",
     "output_type": "stream",
     "text": [
      "c:\\Users\\quezi\\.conda\\envs\\weibodatacleaning\\lib\\site-packages\\sklearn\\cluster\\_kmeans.py:1412: FutureWarning: The default value of `n_init` will change from 10 to 'auto' in 1.4. Set the value of `n_init` explicitly to suppress the warning\n",
      "  super()._check_params_vs_input(X, default_n_init=10)\n",
      "c:\\Users\\quezi\\.conda\\envs\\weibodatacleaning\\lib\\site-packages\\sklearn\\cluster\\_kmeans.py:1436: UserWarning: KMeans is known to have a memory leak on Windows with MKL, when there are less chunks than available threads. You can avoid it by setting the environment variable OMP_NUM_THREADS=6.\n",
      "  warnings.warn(\n",
      "c:\\Users\\quezi\\.conda\\envs\\weibodatacleaning\\lib\\site-packages\\sklearn\\manifold\\_spectral_embedding.py:392: UserWarning: Exited at iteration 2000 with accuracies \n",
      "[2.72746503e-14 5.03152456e-06 2.74176072e-06 1.11592789e-05]\n",
      "not reaching the requested tolerance 1.9669532775878906e-06.\n",
      "Use iteration 1985 instead with accuracy \n",
      "2.7870438032623824e-06.\n",
      "\n",
      "  _, diffusion_map = lobpcg(\n",
      "c:\\Users\\quezi\\.conda\\envs\\weibodatacleaning\\lib\\site-packages\\sklearn\\manifold\\_spectral_embedding.py:392: UserWarning: Exited postprocessing with accuracies \n",
      "[7.49579781e-15 2.78399613e-06 1.47973080e-06 6.88446407e-06]\n",
      "not reaching the requested tolerance 1.9669532775878906e-06.\n",
      "  _, diffusion_map = lobpcg(\n"
     ]
    },
    {
     "name": "stdout",
     "output_type": "stream",
     "text": [
      "[[-0.345821    1.28725   ]\n",
      " [17.379114    1.8668118 ]\n",
      " [-0.36225292  1.284819  ]\n",
      " [-0.3611718   1.2823609 ]\n",
      " [-3.3664293   0.6301739 ]]\n",
      "[ 8 19  8 ... 15 11 18]\n",
      "[15.  7. 10. ... 10.  9. 12.]\n"
     ]
    },
    {
     "data": {
      "image/png": "[encoded data removed]",
      "text/plain": [
       "<Figure size 640x480 with 1 Axes>"
      ]
     },
     "metadata": {},
     "output_type": "display_data"
    },
    {
     "name": "stdout",
     "output_type": "stream",
     "text": [
      "0.06609947643979057\n"
     ]
    }
   ],
   "source": [
    "# 进行KMeans聚类\n",
    "from sklearn.cluster import KMeans\n",
    "kmeans = KMeans(n_clusters=20)\n",
    "kmeans.fit(data)\n",
    "y_kmeans = kmeans.predict(data)\n",
    "\n",
    "# 降维 使用umap\n",
    "import umap\n",
    "data = umap.UMAP().fit_transform(data)\n",
    "print(data[:5])\n",
    "\n",
    "# 可视化\n",
    "import matplotlib.pyplot as plt\n",
    "# plt.scatter(data[:, 0], data[:, 1], c=y_kmeans, s=1, cmap='viridis')\n",
    "# plt.show()\n",
    "print(y_kmeans)\n",
    "print(label)\n",
    "plt.scatter(data[:, 0], data[:, 1], c=label, s=1, cmap='viridis')\n",
    "plt.show()\n",
    "\n",
    "# 对比 label 和 y_kmeans\n",
    "# 计算正确率\n",
    "from sklearn.metrics import accuracy_score\n",
    "print(accuracy_score(label, y_kmeans))\n"
   ]
  },
  {
   "cell_type": "code",
   "execution_count": 20,
   "metadata": {},
   "outputs": [
    {
     "name": "stdout",
     "output_type": "stream",
     "text": [
      "{15.0: 52, 7.0: 80, 10.0: 294, 9.0: 278, 11.0: 225, 12.0: 118, 18.0: 18, 8.0: 172, 13.0: 91, 21.0: 6, 14.0: 56, 6.0: 27, 19.0: 15, 17.0: 25, 16.0: 30, 22.0: 3, 20.0: 12, 26.0: 1, 23.0: 3, 5.0: 11, 4.0: 6, 3.0: 3, 27.0: 1, 24.0: 1}\n"
     ]
    }
   ],
   "source": [
    "label\n",
    "di = {}\n",
    "for i in range(len(label)):\n",
    "    if label[i] not in di:\n",
    "        di[label[i]] = 1\n",
    "    else:\n",
    "        di[label[i]] += 1\n",
    "print(di)"
   ]
  }
 ],
 "metadata": {
  "kernelspec": {
   "display_name": "weibodatacleaning",
   "language": "python",
   "name": "python3"
  },
  "language_info": {
   "codemirror_mode": {
    "name": "ipython",
    "version": 3
   },
   "file_extension": ".py",
   "mimetype": "text/x-python",
   "name": "python",
   "nbconvert_exporter": "python",
   "pygments_lexer": "ipython3",
   "version": "3.10.13"
  }
 },
 "nbformat": 4,
 "nbformat_minor": 2
}
